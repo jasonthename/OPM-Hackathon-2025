{
 "cells": [
  {
   "cell_type": "code",
   "execution_count": null,
   "id": "f0b63ab8",
   "metadata": {},
   "outputs": [],
   "source": [
    "\n",
    "!pip install -q ultralytics\n"
   ]
  },
  {
   "cell_type": "code",
   "execution_count": null,
   "id": "29e3ba97",
   "metadata": {},
   "outputs": [],
   "source": [
    "\n",
    "from ultralytics import YOLO\n",
    "import os\n",
    "import yaml\n"
   ]
  },
  {
   "cell_type": "code",
   "execution_count": null,
   "id": "8209b98b",
   "metadata": {},
   "outputs": [],
   "source": [
    "\n",
    "# Define paths\n",
    "dataset_path = 'css-data'  # relative path to your dataset\n",
    "yaml_path = 'ppe.yaml'     # output path for YAML config\n",
    "model_name = 'yolov8n.pt'  # base YOLOv8 model\n",
    "\n",
    "# Define all classes\n",
    "ppe_classes = [\n",
    "    'Hardhat', 'Mask', 'NO-Hardhat', 'NO-Mask',\n",
    "    'NO-Safety Vest', 'Person', 'Safety Cone',\n",
    "    'Safety Vest', 'machinery', 'vehicle'\n",
    "]\n"
   ]
  },
  {
   "cell_type": "code",
   "execution_count": null,
   "id": "f2ccd29f",
   "metadata": {},
   "outputs": [],
   "source": [
    "\n",
    "# Create dataset YAML\n",
    "data_yaml = {\n",
    "    'train': os.path.join(dataset_path, 'train/images'),\n",
    "    'val': os.path.join(dataset_path, 'valid/images'),\n",
    "    'test': os.path.join(dataset_path, 'test/images'),\n",
    "    'nc': len(ppe_classes),\n",
    "    'names': ppe_classes\n",
    "}\n",
    "\n",
    "# Save to file\n",
    "with open(yaml_path, 'w') as f:\n",
    "    yaml.dump(data_yaml, f)\n",
    "\n",
    "print(f\"Dataset YAML saved to: {yaml_path}\")\n"
   ]
  },
  {
   "cell_type": "code",
   "execution_count": null,
   "id": "ed27d1e2",
   "metadata": {},
   "outputs": [],
   "source": [
    "\n",
    "# Load model\n",
    "model = YOLO(model_name)\n",
    "\n",
    "# Train model\n",
    "model.train(\n",
    "    data=yaml_path,\n",
    "    epochs=50,\n",
    "    imgsz=640,\n",
    "    batch=16,\n",
    "    name='ppe_yolo',\n",
    "    project='runs/train',\n",
    ")\n"
   ]
  },
  {
   "cell_type": "code",
   "execution_count": null,
   "id": "80ec3e0d",
   "metadata": {},
   "outputs": [],
   "source": [
    "\n",
    "# Validate model\n",
    "metrics = model.val()\n",
    "print(\"Validation metrics:\", metrics)\n"
   ]
  },
  {
   "cell_type": "code",
   "execution_count": null,
   "id": "7cb43f02",
   "metadata": {},
   "outputs": [],
   "source": [
    "\n",
    "# Show best weights path\n",
    "print(\"Best model saved at:\", model.best)\n"
   ]
  }
 ],
 "metadata": {},
 "nbformat": 4,
 "nbformat_minor": 5
}